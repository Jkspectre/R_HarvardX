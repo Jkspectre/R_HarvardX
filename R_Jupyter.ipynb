{
 "cells": [
  {
   "cell_type": "code",
   "execution_count": 5,
   "id": "6cadcc7d",
   "metadata": {},
   "outputs": [
    {
     "name": "stdout",
     "output_type": "stream",
     "text": [
      "    product price\n",
      "1      Oven   850\n",
      "2 Microwave   300\n",
      "3   Toaster    NA\n"
     ]
    }
   ],
   "source": [
    "df <- data.frame(product = c('Oven', 'Microwave', 'Toaster'),\n",
    "                 price = c(850, 300, NA)\n",
    "                 )\n",
    "print (df)"
   ]
  },
  {
   "cell_type": "code",
   "execution_count": 4,
   "id": "5eb052eb",
   "metadata": {},
   "outputs": [],
   "source": [
    "help(data.frame)"
   ]
  },
  {
   "cell_type": "code",
   "execution_count": null,
   "id": "8c6c2428",
   "metadata": {},
   "outputs": [],
   "source": []
  }
 ],
 "metadata": {
  "kernelspec": {
   "display_name": "R",
   "language": "R",
   "name": "ir"
  },
  "language_info": {
   "codemirror_mode": "r",
   "file_extension": ".r",
   "mimetype": "text/x-r-source",
   "name": "R",
   "pygments_lexer": "r",
   "version": "3.6.1"
  }
 },
 "nbformat": 4,
 "nbformat_minor": 5
}
